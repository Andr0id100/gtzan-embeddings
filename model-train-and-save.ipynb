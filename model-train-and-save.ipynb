{
 "cells": [
  {
   "cell_type": "markdown",
   "id": "d9e23172-fd17-4c0e-b62b-9e4a41877a14",
   "metadata": {},
   "source": [
    "# MFCC Model"
   ]
  },
  {
   "cell_type": "code",
   "execution_count": null,
   "id": "0f7cfd80-0ff9-44af-bdf2-bc0952ce31fc",
   "metadata": {},
   "outputs": [],
   "source": [
    "from models import MFCCModel\n",
    "import torch"
   ]
  },
  {
   "cell_type": "code",
   "execution_count": null,
   "id": "ee690ec5-c502-4fd8-8e43-8902a02451a3",
   "metadata": {},
   "outputs": [],
   "source": [
    "model = MFCCModel()"
   ]
  },
  {
   "cell_type": "code",
   "execution_count": null,
   "id": "ae5b39e4-c397-4d7e-9e50-e8b796118ad4",
   "metadata": {},
   "outputs": [],
   "source": [
    "torch.save(model, \"saved_models/mfcc_model.ckpt\")"
   ]
  },
  {
   "cell_type": "markdown",
   "id": "56536d58-ad98-431b-93e1-d228ecdb4ac8",
   "metadata": {},
   "source": [
    "# LSTM Model"
   ]
  },
  {
   "cell_type": "code",
   "execution_count": null,
   "id": "3523caf1-2bf4-4e30-b3f9-fde1127c4862",
   "metadata": {},
   "outputs": [],
   "source": [
    "from models import LSTMModel\n",
    "from data_utils import get_dataloader_from_split\n",
    "\n",
    "import wandb\n",
    "from tqdm import tqdm\n",
    "\n",
    "import torch\n",
    "import torch.nn.functional as F"
   ]
  },
  {
   "cell_type": "code",
   "execution_count": null,
   "id": "3168a532-c858-45ba-8713-4dd9e9481b8f",
   "metadata": {},
   "outputs": [],
   "source": [
    "train_dataloader = get_dataloader_from_split(\"splits/embedding_train_split.txt\")"
   ]
  },
  {
   "cell_type": "code",
   "execution_count": null,
   "id": "3fe3e6eb-51f5-4735-ba8e-98c33c3fb99b",
   "metadata": {},
   "outputs": [],
   "source": [
    "test_dataloader = get_dataloader_from_split(\"splits/embedding_test_split.txt\")"
   ]
  },
  {
   "cell_type": "code",
   "execution_count": null,
   "id": "dc721e17-226d-4219-9480-04e095e5cefe",
   "metadata": {},
   "outputs": [],
   "source": [
    "wandb.init(project=\"genre-classification\")"
   ]
  },
  {
   "cell_type": "code",
   "execution_count": null,
   "id": "d02ec6d3-dafa-4de7-b4da-c70a388a8635",
   "metadata": {},
   "outputs": [],
   "source": [
    "def train_one_epoch(model, train_dataloader, optimizer):\n",
    "    model.train()\n",
    "    total, correct = 0, 0\n",
    "    for (audios, labels) in tqdm(train_dataloader):\n",
    "            optimizer.zero_grad()\n",
    "            \n",
    "            preds = model(audios)\n",
    "            total += labels.shape[0]\n",
    "            correct += (torch.argmax(preds, axis=-1) == labels).sum()\n",
    "            \n",
    "            loss = F.cross_entropy(preds, labels)\n",
    "            loss.backward()\n",
    "            optimizer.step()\n",
    "        \n",
    "            wandb.log({\"train_loss\": loss.item()})\n",
    "    wandb.log({\"train_accuracy\": correct / total})"
   ]
  },
  {
   "cell_type": "code",
   "execution_count": null,
   "id": "6475af6d-c7c8-44c0-9d19-c82041cfcfa0",
   "metadata": {},
   "outputs": [],
   "source": [
    "def test_one_epoch(model, test_dataloader):\n",
    "    model.eval()\n",
    "    total, correct = 0, 0\n",
    "    total_loss = 0\n",
    "    for (audios, labels) in tqdm(test_dataloader):            \n",
    "            preds = model(audios)\n",
    "            total += labels.shape[0]\n",
    "            correct += (torch.argmax(preds, axis=-1) == labels).sum()\n",
    "            \n",
    "            loss = F.cross_entropy(preds, labels)\n",
    "            total_loss += loss.item()\n",
    "    wandb.log({\"test_loss\": total_loss/total})\n",
    "    wandb.log({\"test_accuracy\": correct / total})"
   ]
  },
  {
   "cell_type": "code",
   "execution_count": null,
   "id": "d2991bbb-76d3-4c95-9125-5db6ebe8a35e",
   "metadata": {},
   "outputs": [],
   "source": [
    "model = LSTMModel(last=False)\n",
    "optimizer = torch.optim.Adam(model.parameters())"
   ]
  },
  {
   "cell_type": "code",
   "execution_count": null,
   "id": "130c367d-70e6-4d2a-b3f7-4dc11b2688c7",
   "metadata": {},
   "outputs": [],
   "source": [
    "NUM_EPOCHS = 10"
   ]
  },
  {
   "cell_type": "code",
   "execution_count": null,
   "id": "f761d5a5-6f56-4dc1-821d-510ee96e9648",
   "metadata": {},
   "outputs": [],
   "source": [
    "for epoch in range(NUM_EPOCHS):\n",
    "    print(epoch)\n",
    "    train_one_epoch(model, train_dataloader, optimizer)\n",
    "    test_one_epoch(model, test_dataloader)"
   ]
  },
  {
   "cell_type": "code",
   "execution_count": null,
   "id": "5e2ce91b-7f1b-43ef-afd8-3d07ec9c8854",
   "metadata": {},
   "outputs": [],
   "source": [
    "torch.save(model, \"saved_models/lstm_model.ckpt\")"
   ]
  }
 ],
 "metadata": {
  "kernelspec": {
   "display_name": "Python 3",
   "language": "python",
   "name": "python3"
  },
  "language_info": {
   "codemirror_mode": {
    "name": "ipython",
    "version": 3
   },
   "file_extension": ".py",
   "mimetype": "text/x-python",
   "name": "python",
   "nbconvert_exporter": "python",
   "pygments_lexer": "ipython3",
   "version": "3.8.10"
  }
 },
 "nbformat": 4,
 "nbformat_minor": 5
}
